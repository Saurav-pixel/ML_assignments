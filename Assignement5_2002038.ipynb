{
  "nbformat": 4,
  "nbformat_minor": 0,
  "metadata": {
    "colab": {
      "name": "Assignement5_2002038.ipynb",
      "provenance": [],
      "authorship_tag": "ABX9TyPZHWFhhL08KE9KierCgWQc"
    },
    "kernelspec": {
      "name": "python3",
      "display_name": "Python 3"
    }
  },
  "cells": [
    {
      "cell_type": "code",
      "metadata": {
        "colab": {
          "base_uri": "https://localhost:8080/"
        },
        "id": "QoiY7_lxa3Fp",
        "outputId": "cad83bd4-3441-4b8c-ecfe-d891806b2c7f"
      },
      "source": [
        "from google.colab import drive\n",
        "drive.mount('/content/drive/')"
      ],
      "execution_count": null,
      "outputs": [
        {
          "output_type": "stream",
          "text": [
            "Mounted at /content/drive/\n"
          ],
          "name": "stdout"
        }
      ]
    },
    {
      "cell_type": "markdown",
      "metadata": {
        "id": "mLJTumrrOZ_f"
      },
      "source": [
        "Linear Regression using Ordinary Least Square Method"
      ]
    },
    {
      "cell_type": "code",
      "metadata": {
        "colab": {
          "base_uri": "https://localhost:8080/"
        },
        "id": "W7OnDYJSYyiF",
        "outputId": "b4086601-91f9-423b-efb7-71c9ee977ee9"
      },
      "source": [
        "import pandas as pd\n",
        "\n",
        "df = pd.read_csv('/content/drive/MyDrive/Colab Notebooks/swedish.csv')\n",
        "df \n",
        "\n"
      ],
      "execution_count": null,
      "outputs": [
        {
          "output_type": "stream",
          "text": [
            "      X      Y\n",
            "0   108  392.5\n",
            "1    19   46.2\n",
            "2    13   15.7\n",
            "3   124  422.2\n",
            "4    40  119.4\n",
            "..  ...    ...\n",
            "58    9   87.4\n",
            "59   31  209.8\n",
            "60   14   95.5\n",
            "61   53  244.6\n",
            "62   26  187.5\n",
            "\n",
            "[63 rows x 2 columns]\n"
          ],
          "name": "stdout"
        }
      ]
    },
    {
      "cell_type": "code",
      "metadata": {
        "colab": {
          "base_uri": "https://localhost:8080/"
        },
        "id": "FUR1SLN2mKfp",
        "outputId": "6f96751d-fa66-459c-e9b5-0a7dc111dfed"
      },
      "source": [
        "import matplotlib.pyplot as plt\n",
        "from sklearn.linear_model import LinearRegression\n",
        "#import statsmodels.api as sm\n",
        "from sklearn.model_selection import train_test_split\n",
        "train,test = train_test_split(df, test_size = 0.20)\n",
        "print(len(train))\n",
        "print(len(test))\n",
        "print(train.head())\n",
        "print(test.head())\n",
        "\n",
        "# making/ creating validation dataset from train dataset\n",
        "train2, val = train_test_split(train,test_size = 0.20)\n",
        "print(len(train2)) # printing the lenght of train dataset after removing validation\n",
        "print(len(val)) #printing the length of val\n",
        "print(train2.head()) # after creating validation dataset\n",
        "print(test.head())\n",
        "print(val.head())\n",
        "\n",
        "# splitting in x and y values  from train\n",
        "x_train= train2['X'].values\n",
        "y_train = train2['Y'].values\n",
        "\n",
        "print(x_train)\n",
        "print(y_train)\n",
        "\n",
        "\n",
        "# splitting in x and y values from test dataset\n",
        "x_test= test['X'].values\n",
        "y_test = test['Y'].values\n",
        "\n",
        "print(\"x_test\", x_test)\n",
        "print(\"y_test\",y_test)\n",
        "\n",
        "\n",
        "# splitting in x and y values from test dataset\n",
        "x_validate= val['X'].values\n",
        "y_validate = val['Y'].values\n",
        "\n",
        "print()\n",
        "print(\"x_validate\", x_test)\n",
        "print(\"y_validate\",y_test)\n",
        "#from sklearn.model_selection import train_test_split\n",
        "\n",
        "\n",
        "# Linear regresssion starts\n",
        "\n",
        "# on train dataset\n",
        "'''\n",
        "model1 = sm.OLS(x_train, y_train).fit()\n",
        "model1_prediction = model1.predict(y_train)\n",
        "'''\n",
        "x_train = x_train.reshape((-1,1))\n",
        "model1 = LinearRegression().fit(x_train, y_train) \n",
        "print(model1.score(x_train, y_train))\n",
        "print()\n",
        "# on test data\n",
        "x_test = x_test.reshape((-1,1))\n",
        "print(model1.score(x_test,y_test))\n",
        "print()\n",
        "\n",
        "# on validation data\n",
        "x_validate = x_validate.reshape((-1,1))\n",
        "print(model1.score(x_validate, y_validate))\n"
      ],
      "execution_count": null,
      "outputs": [
        {
          "output_type": "stream",
          "text": [
            "50\n",
            "13\n",
            "     X      Y\n",
            "52  13   31.9\n",
            "10   5   20.9\n",
            "17   6   50.9\n",
            "55  29  133.3\n",
            "20   6   14.8\n",
            "     X      Y\n",
            "1   19   46.2\n",
            "19  23  113.0\n",
            "35  11   57.2\n",
            "4   40  119.4\n",
            "11  48  248.1\n",
            "40\n",
            "10\n",
            "      X      Y\n",
            "27   20   98.1\n",
            "38    4   12.6\n",
            "15    2    6.6\n",
            "0   108  392.5\n",
            "50   17  142.1\n",
            "     X      Y\n",
            "1   19   46.2\n",
            "19  23  113.0\n",
            "35  11   57.2\n",
            "4   40  119.4\n",
            "11  48  248.1\n",
            "     X      Y\n",
            "41  60  202.4\n",
            "52  13   31.9\n",
            "59  31  209.8\n",
            "62  26  187.5\n",
            "6   23   56.9\n",
            "[ 20   4   2 108  17  13  41 124   4   9   3   6  41  11   3  15   4  29\n",
            "   8   7  13   7  24   3  13  16   8  22  24   6  57   9  55   7   5  61\n",
            "  27  29   6  14]\n",
            "[ 98.1  12.6   6.6 392.5 142.1  89.9  73.4 422.2  11.8  48.7  39.9  14.8\n",
            " 181.3  21.3   4.4  32.1  38.1 133.3  76.1  77.5  93.   48.8 134.9  13.2\n",
            "  15.7  59.6  55.6 161.5 137.9  50.9 170.9  87.4 162.8  27.9  20.9 217.6\n",
            "  92.6 103.9  14.6  77.5]\n",
            "x_test [19 23 11 40 48  5 30  9 12 25 14 53  0]\n",
            "y_test [ 46.2 113.   57.2 119.4 248.1  40.3 194.5  52.1  58.1  69.2  95.5 244.6\n",
            "   0. ]\n",
            "\n",
            "x_validate [19 23 11 40 48  5 30  9 12 25 14 53  0]\n",
            "y_validate [ 46.2 113.   57.2 119.4 248.1  40.3 194.5  52.1  58.1  69.2  95.5 244.6\n",
            "   0. ]\n",
            "0.8859174182661229\n",
            "\n",
            "0.7525747555296716\n",
            "\n",
            "0.5990412252424496\n"
          ],
          "name": "stdout"
        }
      ]
    },
    {
      "cell_type": "markdown",
      "metadata": {
        "id": "tjSDGa1gvJTn"
      },
      "source": [
        "Linear regression using Gradient Descent Method"
      ]
    },
    {
      "cell_type": "code",
      "metadata": {
        "colab": {
          "base_uri": "https://localhost:8080/",
          "height": 1000
        },
        "id": "fI80qIXOJzd1",
        "outputId": "31f32b2d-8690-4257-df97-5d0fc3a84bd1"
      },
      "source": [
        "# Making the imports\n",
        "import numpy as np\n",
        "import pandas as pd\n",
        "import matplotlib.pyplot as plt\n",
        "plt.rcParams['figure.figsize'] = (12.0, 9.0)\n",
        "\n",
        "# Preprocessing Input data\n",
        "data = pd.read_csv('/content/drive/MyDrive/Colab Notebooks/swedish.csv')\n",
        "X = data.iloc[:, 0]\n",
        "Y = data.iloc[:, 1]\n",
        "plt.scatter(X, Y)\n",
        "plt.show()\n",
        "\n",
        "# Building the model\n",
        "m = 0\n",
        "c = 0\n",
        "\n",
        "L = 0.0001  # The learning Rate\n",
        "epochs = 1000  # The number of iterations to perform gradient descent\n",
        "\n",
        "n = float(len(X)) # Number of elements in X\n",
        "\n",
        "# Performing Gradient Descent \n",
        "for i in range(epochs): \n",
        "    Y_pred = m*X + c  # The current predicted value of Y\n",
        "    D_m = (-2/n) * sum(X * (Y - Y_pred))  # Derivative wrt m\n",
        "    D_c = (-2/n) * sum(Y - Y_pred)  # Derivative wrt c\n",
        "    m = m - L * D_m  # Update m\n",
        "    c = c - L * D_c  # Update c\n",
        "    \n",
        "print (m, c)\n",
        "\n",
        "\n",
        "\n",
        "\n",
        "# Making predictions\n",
        "Y_pred = m*X + c\n",
        "\n",
        "plt.scatter(X, Y) \n",
        "plt.plot([min(X), max(X)], [min(Y_pred), max(Y_pred)], color='red')  # regression line\n",
        "plt.show()"
      ],
      "execution_count": null,
      "outputs": [
        {
          "output_type": "display_data",
          "data": {
            "image/png": "[encoded data removed]",
            "text/plain": [
              "<Figure size 864x648 with 1 Axes>"
            ]
          },
          "metadata": {
            "tags": [],
            "needs_background": "light"
          }
        },
        {
          "output_type": "stream",
          "text": [
            "3.802421618624299 1.9974788477880756\n"
          ],
          "name": "stdout"
        },
        {
          "output_type": "display_data",
          "data": {
            "image/png": "[encoded data removed]",
            "text/plain": [
              "<Figure size 864x648 with 1 Axes>"
            ]
          },
          "metadata": {
            "tags": [],
            "needs_background": "light"
          }
        }
      ]
    }
  ]
}