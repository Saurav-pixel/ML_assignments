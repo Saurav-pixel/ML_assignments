{
  "nbformat": 4,
  "nbformat_minor": 0,
  "metadata": {
    "colab": {
      "name": "Assignment1_2002038.ipynb",
      "provenance": [],
      "collapsed_sections": [],
      "authorship_tag": "ABX9TyOP2qLDKDzFHWZ75yTfKQXa"
    },
    "kernelspec": {
      "name": "python3",
      "display_name": "Python 3"
    }
  },
  "cells": [
    {
      "cell_type": "markdown",
      "metadata": {
        "id": "YmopxrMdL9-Q"
      },
      "source": [
        "## **Part 1: Python Basic**"
      ]
    },
    {
      "cell_type": "markdown",
      "metadata": {
        "id": "kn20BZ47MSHP"
      },
      "source": [
        "1. Write a command to get the Python version you are using."
      ]
    },
    {
      "cell_type": "code",
      "metadata": {
        "colab": {
          "base_uri": "https://localhost:8080/"
        },
        "id": "W7c992B4L7b_",
        "outputId": "5c97254c-ac1e-4d94-9d18-d319f53bbb51"
      },
      "source": [
        "!python --version"
      ],
      "execution_count": null,
      "outputs": [
        {
          "output_type": "stream",
          "text": [
            "Python 3.6.9\n"
          ],
          "name": "stdout"
        }
      ]
    },
    {
      "cell_type": "markdown",
      "metadata": {
        "id": "E6An0U9TMsOj"
      },
      "source": [
        "2. Write a command or program to locate Python site-packages."
      ]
    },
    {
      "cell_type": "code",
      "metadata": {
        "colab": {
          "base_uri": "https://localhost:8080/"
        },
        "id": "JxzFPDliMtxP",
        "outputId": "173f4a66-2af8-483b-b742-cd3c8a74cd07"
      },
      "source": [
        "import site\n",
        "site.getsitepackages()"
      ],
      "execution_count": null,
      "outputs": [
        {
          "output_type": "execute_result",
          "data": {
            "text/plain": [
              "['/usr/local/lib/python3.6/dist-packages',\n",
              " '/usr/lib/python3/dist-packages',\n",
              " '/usr/lib/python3.6/dist-packages']"
            ]
          },
          "metadata": {
            "tags": []
          },
          "execution_count": 2
        }
      ]
    },
    {
      "cell_type": "markdown",
      "metadata": {
        "id": "wGErFHjRN2cj"
      },
      "source": [
        "3. Write a command or program to get the path and name of the\n",
        "file that is currently executing."
      ]
    },
    {
      "cell_type": "code",
      "metadata": {
        "colab": {
          "base_uri": "https://localhost:8080/"
        },
        "id": "OVviQNE1NYc0",
        "outputId": "b813f6da-2d0d-4936-a1f5-b850c945be5b"
      },
      "source": [
        "from google.colab import drive\n",
        "drive.mount('/content/drive')\n",
        "\n",
        "!find $PWD -name Assignment1_2002038.ipynb"
      ],
      "execution_count": null,
      "outputs": [
        {
          "output_type": "stream",
          "text": [
            "Mounted at /content/drive\n",
            "/content/drive/MyDrive/Colab Notebooks/Assignment1_2002038.ipynb\n"
          ],
          "name": "stdout"
        }
      ]
    },
    {
      "cell_type": "markdown",
      "metadata": {
        "id": "UHuD03E8RivD"
      },
      "source": [
        "4. Write a python program to randomly generate two matrices of\n",
        "size [2x3 and 3x2] and do the matrix multiplication using\n",
        "the two generated matrices. (Say A = BC)"
      ]
    },
    {
      "cell_type": "code",
      "metadata": {
        "id": "hekXFA_6Roz3",
        "colab": {
          "base_uri": "https://localhost:8080/"
        },
        "outputId": "22aaa016-c24a-44fb-866e-ab4cd6e89014"
      },
      "source": [
        "import numpy as np\n",
        "A = np.random.rand(2,3)\n",
        "print(\"First matrix\\n\",A)\n",
        "\n",
        "print(\"\\n\")\n",
        "\n",
        "B = np.random.rand(3,2)\n",
        "print(\"Second matrix\\n\",B)\n",
        "\n",
        "print(\"\\n\")\n",
        "\n",
        "C = np.zeros((2,2))\n",
        "print(\"Result matrix \\n\",C) #initially the result matrix is initialised with zeroes\n",
        "# matrix multiplication\n",
        "for i in range(len(A)):\n",
        "  #iterate through columns of B\n",
        "  for j in range(len(B[0])):\n",
        "    #iterate through the rows\n",
        "    for k in range(len(B)):\n",
        "      C[i][j] += A[i][k] * B[k][j]\n",
        "\n",
        "\n",
        "print(\"\\n\")\n",
        "#printing the result of matrix multiplication\n",
        "print(\"C = A *B \\n\")\n",
        "for r in C:\n",
        "  print(r)\n"
      ],
      "execution_count": null,
      "outputs": [
        {
          "output_type": "stream",
          "text": [
            "First matrix\n",
            " [[0.67338378 0.88812617 0.28378325]\n",
            " [0.41765724 0.8526082  0.61670268]]\n",
            "\n",
            "\n",
            "Second matrix\n",
            " [[0.22207407 0.24213465]\n",
            " [0.86231987 0.89067506]\n",
            " [0.79960215 0.48771105]]\n",
            "\n",
            "\n",
            "Result matrix \n",
            " [[0. 0.]\n",
            " [0. 0.]]\n",
            "\n",
            "\n",
            "C = A *B \n",
            "\n",
            "[1.14230362 1.09248561]\n",
            "[1.32108862 1.16129887]\n"
          ],
          "name": "stdout"
        }
      ]
    },
    {
      "cell_type": "markdown",
      "metadata": {
        "id": "XMIrm9ru5Qap"
      },
      "source": [
        "5. Use a for loop to implement the above question five times\n",
        "and thereafter take the average of all the five matrices\n",
        "and display the result."
      ]
    },
    {
      "cell_type": "code",
      "metadata": {
        "colab": {
          "base_uri": "https://localhost:8080/"
        },
        "id": "TgPCpWv35cEa",
        "outputId": "4ff3ddc0-f4fa-41e5-bce5-6bb2553ea1b5"
      },
      "source": [
        "import numpy as np\n",
        "A = np.random.rand(2,3)\n",
        "print(\"First matrix\\n\",A)\n",
        "\n",
        "print(\"\\n\")\n",
        "\n",
        "B = np.random.rand(3,2)\n",
        "print(\"Second matrix\\n\",B)\n",
        "\n",
        "print(\"\\n\")\n",
        "\n",
        "C = np.zeros((2,2))\n",
        "print(\"Result matrix \\n\",C) #initially the result matrix is initialised with zeroes\n",
        "for a in range(5):\n",
        "    # matrix multiplication\n",
        "  for i in range(len(A)):\n",
        "    #iterate through columns of B\n",
        "    for j in range(len(B[0])):\n",
        "      #iterate through the rows\n",
        "      for k in range(len(B)):\n",
        "        C[i][j] += A[i][k] * B[k][j] \n",
        "\n",
        "\n",
        "\n",
        "print(\"\\n\")\n",
        "#printing the result of matrix multiplication\n",
        "print(\"C = A *B \\n\")\n",
        "for r in C:\n",
        "  print(r)\n",
        "\n",
        "print(\"\\n\")\n",
        "#printing the average of matrix multiplication\n",
        "#Average = np.mean(C,axis=0)\n",
        "#avg2 = np.mean(C,axis=1)\n",
        "#print(Average)\n",
        "#print(avg2)\n",
        "average = C / 5\n",
        "print(average)"
      ],
      "execution_count": null,
      "outputs": [
        {
          "output_type": "stream",
          "text": [
            "First matrix\n",
            " [[0.25638356 0.98708533 0.51450249]\n",
            " [0.61443611 0.72262846 0.60245755]]\n",
            "\n",
            "\n",
            "Second matrix\n",
            " [[0.47650797 0.60935125]\n",
            " [0.33768147 0.66175841]\n",
            " [0.90725726 0.57644022]]\n",
            "\n",
            "\n",
            "Result matrix \n",
            " [[0. 0.]\n",
            " [0. 0.]]\n",
            "\n",
            "\n",
            "C = A *B \n",
            "\n",
            "[4.61137677 5.53009793]\n",
            "[5.41692963 5.99946816]\n",
            "\n",
            "\n",
            "[[0.92227535 1.10601959]\n",
            " [1.08338593 1.19989363]]\n"
          ],
          "name": "stdout"
        }
      ]
    },
    {
      "cell_type": "markdown",
      "metadata": {
        "id": "svda5izY-Emq"
      },
      "source": [
        "6. Write a program to transfer the matrix (generated in\n",
        "question 5) to the CSV file and then read the same matrix\n",
        "and display the transposition of it."
      ]
    },
    {
      "cell_type": "code",
      "metadata": {
        "colab": {
          "base_uri": "https://localhost:8080/"
        },
        "id": "3H8INj-m-MkW",
        "outputId": "db1ff7fd-2d15-46c5-9d70-39d7608c5b89"
      },
      "source": [
        "\n",
        "import numpy as np\n",
        "import pandas as pd\n",
        "\n",
        "A = np.random.rand(2,3)\n",
        "print(\"First matrix\\n\",A)\n",
        "\n",
        "print(\"\\n\")\n",
        "\n",
        "B = np.random.rand(3,2)\n",
        "print(\"Second matrix\\n\",B)\n",
        "\n",
        "print(\"\\n\")\n",
        "\n",
        "C = np.zeros((2,2))\n",
        "print(\"Result matrix \\n\",C) #initially the result matrix is initialised with zeroes\n",
        "for a in range(5):\n",
        "    # matrix multiplication\n",
        "  for i in range(len(A)):\n",
        "    #iterate through columns of B\n",
        "    for j in range(len(B[0])):\n",
        "      #iterate through the rows\n",
        "      for k in range(len(B)):\n",
        "        C[i][j] += A[i][k] * B[k][j] \n",
        "\n",
        "\n",
        "\n",
        "print(\"\\n\")\n",
        "#printing the result of matrix multiplication\n",
        "print(\"C = A *B \\n\")\n",
        "for r in C:\n",
        "  print(r)\n",
        "\n",
        "print(\"\\n\")\n",
        "#printing the average of matrix multiplication\n",
        "#Average = np.mean(C,axis=0)\n",
        "#avg2 = np.mean(C,axis=1)\n",
        "#print(Average)\n",
        "#print(avg2)\n",
        "average = C / 5\n",
        "\n",
        "print(\"average of matrix \\n\")\n",
        "print(average)\n",
        "DF = pd.DataFrame(average)\n",
        "DF.to_csv(\"/content/drive/MyDrive/Colab Notebooks/matrix.csv\")\n",
        "\n",
        "#read the values from csv file and save its result in a matrix\n",
        "import csv\n",
        "\n",
        "with open('/content/drive/MyDrive/Colab Notebooks/matrix.csv') as csvfile:\n",
        "    data = list(csv.reader(csvfile))\n",
        "print(\"\\n\")\n",
        "print(\"Reading matrix values stored in the CSV file\")\n",
        "print(data)\n",
        "\n",
        "print(\"\\n\")\n",
        "\n",
        "#converting list into numpy array\n",
        "arr = np.array(data)\n",
        "# tranpose of matrix obtained from csv file\n",
        "transposeMatrix = np.transpose(arr)\n",
        "\n",
        "print(\"The transpose of matrix \\n\")\n",
        "print(transposeMatrix)"
      ],
      "execution_count": null,
      "outputs": [
        {
          "output_type": "stream",
          "text": [
            "First matrix\n",
            " [[0.40965999 0.40285574 0.00617121]\n",
            " [0.57325787 0.85661019 0.65169481]]\n",
            "\n",
            "\n",
            "Second matrix\n",
            " [[0.65097438 0.68953689]\n",
            " [0.75741658 0.7780354 ]\n",
            " [0.35511987 0.23768501]]\n",
            "\n",
            "\n",
            "Result matrix \n",
            " [[0. 0.]\n",
            " [0. 0.]]\n",
            "\n",
            "\n",
            "C = A *B \n",
            "\n",
            "[2.86999649 2.98689255]\n",
            "[6.26708367 6.08326797]\n",
            "\n",
            "\n",
            "average of matrix \n",
            "\n",
            "[[0.5739993  0.59737851]\n",
            " [1.25341673 1.21665359]]\n",
            "\n",
            "\n",
            "Reading matrix values stored in the CSV file\n",
            "[['', '0', '1'], ['0', '0.5739992987573295', '0.5973785106944288'], ['1', '1.2534167331524368', '1.216653593527759']]\n",
            "\n",
            "\n",
            "The transpose of matrix \n",
            "\n",
            "[['' '0' '1']\n",
            " ['0' '0.5739992987573295' '1.2534167331524368']\n",
            " ['1' '0.5973785106944288' '1.216653593527759']]\n"
          ],
          "name": "stdout"
        }
      ]
    },
    {
      "cell_type": "markdown",
      "metadata": {
        "id": "dW0p9AyhWJx3"
      },
      "source": [
        "7. Write a program to find the mean, mode, and median of the above-mentioned matrix."
      ]
    },
    {
      "cell_type": "code",
      "metadata": {
        "colab": {
          "base_uri": "https://localhost:8080/"
        },
        "id": "7okEZ7fZWGmo",
        "outputId": "31641bac-604f-4906-d043-5bdce0911cf2"
      },
      "source": [
        "import numpy as np\n",
        "from scipy import stats\n",
        "A = np.random.rand(2,3)\n",
        "print(\"First matrix\\n\",A)\n",
        "\n",
        "print(\"\\n\")\n",
        "\n",
        "B = np.random.rand(3,2)\n",
        "print(\"Second matrix\\n\",B)\n",
        "\n",
        "print(\"\\n\")\n",
        "\n",
        "C = np.zeros((2,2))\n",
        "#print(\"Result matrix \\n\",C) #initially the result matrix is initialised with zeroes\n",
        "for a in range(5):\n",
        "    # matrix multiplication\n",
        "  for i in range(len(A)):\n",
        "    #iterate through columns of B\n",
        "    for j in range(len(B[0])):\n",
        "      #iterate through the rows\n",
        "      for k in range(len(B)):\n",
        "        C[i][j] += A[i][k] * B[k][j] \n",
        "\n",
        "\n",
        "\n",
        "print(\"\\n\")\n",
        "#printing the result of matrix multiplication\n",
        "print(\"C = A *B \\n\")\n",
        "for r in C:\n",
        "  print(r)\n",
        "\n",
        "print(\"\\n\")\n",
        "#printing the average of matrix multiplication\n",
        "#Average = np.mean(C,axis=0)\n",
        "#avg2 = np.mean(C,axis=1)\n",
        "#print(Average)\n",
        "#print(avg2)\n",
        "average = C / 5\n",
        "print(\"average of matrix is \\n\",average)\n",
        "\n",
        "print(\"\\n\")\n",
        "\n",
        "print(\"mean of matrix \\n\",np.mean(average))\n",
        "print(\"\\n\")\n",
        "print(\"median of matrix \\n\", np.median(average))\n",
        "print(\"\\n\")\n",
        "print(\"mode of matrix \\n\",stats.mode(average))"
      ],
      "execution_count": null,
      "outputs": [
        {
          "output_type": "stream",
          "text": [
            "First matrix\n",
            " [[0.75884547 0.0118058  0.44761421]\n",
            " [0.84334799 0.11538516 0.07780165]]\n",
            "\n",
            "\n",
            "Second matrix\n",
            " [[0.07120831 0.34514396]\n",
            " [0.82777157 0.74326448]\n",
            " [0.27948339 0.6266509 ]]\n",
            "\n",
            "\n",
            "\n",
            "\n",
            "C = A *B \n",
            "\n",
            "[0.94454673 2.75591805]\n",
            "[0.88655105 2.12796315]\n",
            "\n",
            "\n",
            "average of matrix is \n",
            " [[0.18890935 0.55118361]\n",
            " [0.17731021 0.42559263]]\n",
            "\n",
            "\n",
            "mean of matrix \n",
            " 0.3357489485124858\n",
            "\n",
            "\n",
            "median of matrix \n",
            " 0.30725098765421544\n",
            "\n",
            "\n",
            "mode of matrix \n",
            " ModeResult(mode=array([[0.17731021, 0.42559263]]), count=array([[1, 1]]))\n"
          ],
          "name": "stdout"
        }
      ]
    },
    {
      "cell_type": "markdown",
      "metadata": {
        "id": "bBU6FnwHtpVG"
      },
      "source": [
        "8. Write a program to print the upper triangle of the matrix."
      ]
    },
    {
      "cell_type": "code",
      "metadata": {
        "colab": {
          "base_uri": "https://localhost:8080/"
        },
        "id": "yVU1-FBPtYsU",
        "outputId": "249f937d-891d-49d0-e726-09f43e6fad50"
      },
      "source": [
        "\n",
        "def upper(inputMatrix,rows,cols):\n",
        "  for i in range(0,rows):\n",
        "    for j in range(0,cols):\n",
        "      if(i>j):\n",
        "        print(\"0\",end =\" \");\n",
        "      else:\n",
        "        print(inputMatrix[i][j],end=\" \")\n",
        "    \n",
        "    print(\" \")\n",
        "\n",
        "#main program (Driver code)\n",
        "import numpy as np\n",
        "rows = int(input(\"Enter no. of rows that input matrix should have \\n\"))\n",
        "cols = int(input(\"Enter no. of cols that input matrix should have \\n\"))\n",
        "\n",
        "inputMatrix = np.random.rand(rows, cols)\n",
        "print(inputMatrix)\n",
        "\n",
        "print(\"\\n\")\n",
        "print(\"Upper triangular matrix: \")\n",
        "upper(inputMatrix, rows,cols)\n"
      ],
      "execution_count": null,
      "outputs": [
        {
          "output_type": "stream",
          "text": [
            "Enter no. of rows that input matrix should have \n",
            "3\n",
            "Enter no. of cols that input matrix should have \n",
            "3\n",
            "[[0.43282133 0.09369541 0.06734352]\n",
            " [0.67879012 0.26930191 0.43578563]\n",
            " [0.42876387 0.13003444 0.22007919]]\n",
            "\n",
            "\n",
            "Upper triangular matrix: \n",
            "0.4328213320216029 0.09369540643549334 0.06734351634913316  \n",
            "0 0.26930191072531107 0.4357856283752706  \n",
            "0 0 0.2200791871905028  \n"
          ],
          "name": "stdout"
        }
      ]
    },
    {
      "cell_type": "markdown",
      "metadata": {
        "id": "4tOdLU1tzXjC"
      },
      "source": [
        "9. Write a Python program to read specific columns of a given CSV file and print the content of the columns. (Column number should be given by the user)"
      ]
    },
    {
      "cell_type": "code",
      "metadata": {
        "id": "ouWQjwSMzjgV"
      },
      "source": [
        "import csv\n",
        "with open('/content/sample_data/california_housing_test.csv','r') as csv_file:\n",
        " csv_reader = csv.reader(csv_file)\n",
        " c = int(input('Enter the column no. of csv file you want to print\\n'))\n",
        " for line in csv_reader:\n",
        "   print(line[c])"
      ],
      "execution_count": null,
      "outputs": []
    },
    {
      "cell_type": "markdown",
      "metadata": {
        "id": "w7B55BRVLeyE"
      },
      "source": [
        "10. Write a Python program to replace a user-defined number present in the CSV file by the character ‘A’."
      ]
    },
    {
      "cell_type": "code",
      "metadata": {
        "id": "23ZF8MdwLpVG"
      },
      "source": [
        "import csv\n",
        "text = open('/content/sample_data/california_housing_test.csv','r')\n",
        "\n",
        "#join() function combines all contents of  csv file and formed as a string\n",
        "text = ''.join([i for i in text])\n",
        "\n",
        "#search for a number in the text and replace the content\n",
        "text =text.replace(\"19\",\"A\")\n",
        "\n",
        "#output.csv is the output file opened in write mode\n",
        "x = open(\"/content/drive/MyDrive/Colab Notebooks/output.csv\",\"w\")\n",
        "\n",
        "#all the replaced text  are replaced in output.csv file \n",
        "x.writelines(text)\n",
        "x.close()\n",
        "\n"
      ],
      "execution_count": null,
      "outputs": []
    },
    {
      "cell_type": "markdown",
      "metadata": {
        "id": "Q4cVGjwJL-2V"
      },
      "source": [
        "## Part 2 : Numpy Basics"
      ]
    },
    {
      "cell_type": "markdown",
      "metadata": {
        "id": "iQ9TeW7lMI-F"
      },
      "source": [
        "1. Write a NumPy program to create an array of 10 zeros,10 ones, 10 fives"
      ]
    },
    {
      "cell_type": "code",
      "metadata": {
        "colab": {
          "base_uri": "https://localhost:8080/"
        },
        "id": "vtDdjubqMEHz",
        "outputId": "8b4a492d-69c7-488d-ba24-394774abd45e"
      },
      "source": [
        "import numpy as np\n",
        "print(\"array of 10 zeros\\n\")\n",
        "print(np.zeros(10))\n",
        "\n",
        "print(\"\\n\")\n",
        "print(\"array of 10 ones \\n\")\n",
        "print(np.ones(10))\n",
        "\n",
        "print(\"\\n\")\n",
        "print(\"array of 10 fives\")\n",
        "print(np.ones(10)*5)"
      ],
      "execution_count": null,
      "outputs": [
        {
          "output_type": "stream",
          "text": [
            "array of 10 zeros\n",
            "\n",
            "[0. 0. 0. 0. 0. 0. 0. 0. 0. 0.]\n",
            "\n",
            "\n",
            "array of 10 ones \n",
            "\n",
            "[1. 1. 1. 1. 1. 1. 1. 1. 1. 1.]\n",
            "\n",
            "\n",
            "array of 10 fives\n",
            "[5. 5. 5. 5. 5. 5. 5. 5. 5. 5.]\n"
          ],
          "name": "stdout"
        }
      ]
    },
    {
      "cell_type": "markdown",
      "metadata": {
        "id": "toHgHQ7WNhDk"
      },
      "source": [
        "2. Write a NumPy program to create an array of all the even integers from 10 to 50"
      ]
    },
    {
      "cell_type": "code",
      "metadata": {
        "colab": {
          "base_uri": "https://localhost:8080/"
        },
        "id": "Ct9AW7tqQLBC",
        "outputId": "cfda4634-6c08-4137-8589-9e28ecaf37e0"
      },
      "source": [
        "import numpy as np\n",
        "array = np.arange(10,51,2)\n",
        "print(\"Array of all even integer ranging from 10 to 50\\n\")\n",
        "print(array)"
      ],
      "execution_count": null,
      "outputs": [
        {
          "output_type": "stream",
          "text": [
            "Array of all even integer ranging from 10 to 50\n",
            "\n",
            "[10 12 14 16 18 20 22 24 26 28 30 32 34 36 38 40 42 44 46 48 50]\n"
          ],
          "name": "stdout"
        }
      ]
    },
    {
      "cell_type": "markdown",
      "metadata": {
        "id": "6ALe_XLLQq1D"
      },
      "source": [
        "3. Write a NumPy program to generate a random number between 0 and 1"
      ]
    },
    {
      "cell_type": "code",
      "metadata": {
        "colab": {
          "base_uri": "https://localhost:8080/"
        },
        "id": "H4lqrc3aRlLx",
        "outputId": "f9600746-9980-4616-ef80-7d12f0982dad"
      },
      "source": [
        "import numpy as np\n",
        "rand_num = np.random.normal(0,1,1)\n",
        "print(\"Random number between 0 and 1:\")\n",
        "print(rand_num)"
      ],
      "execution_count": null,
      "outputs": [
        {
          "output_type": "stream",
          "text": [
            "Random number between 0 and 1:\n",
            "[1.32418471]\n"
          ],
          "name": "stdout"
        }
      ]
    },
    {
      "cell_type": "markdown",
      "metadata": {
        "id": "Rw0GEfZwR1RJ"
      },
      "source": [
        "4. Write a NumPy program to save the matrix (generated in question 3) to a text file and load it"
      ]
    },
    {
      "cell_type": "code",
      "metadata": {
        "colab": {
          "base_uri": "https://localhost:8080/"
        },
        "id": "QP6be_vwTfYR",
        "outputId": "0a60a15c-6901-41bd-f4b4-51eb13d4343d"
      },
      "source": [
        "import numpy as np\n",
        "import os\n",
        "A = np.arange(12).reshape(4, 3)\n",
        "print(\"Original array:\")\n",
        "print(A)\n",
        "header = 'col1 col2 col3'\n",
        "np.savetxt('temp.txt', A, fmt=\"%d\", header=header) \n",
        "print(\"After loading, content of the text file:\")\n",
        "result = np.loadtxt('temp.txt')\n",
        "print(result)"
      ],
      "execution_count": null,
      "outputs": [
        {
          "output_type": "stream",
          "text": [
            "Original array:\n",
            "[[ 0  1  2]\n",
            " [ 3  4  5]\n",
            " [ 6  7  8]\n",
            " [ 9 10 11]]\n",
            "After loading, content of the text file:\n",
            "[[ 0.  1.  2.]\n",
            " [ 3.  4.  5.]\n",
            " [ 6.  7.  8.]\n",
            " [ 9. 10. 11.]]\n"
          ],
          "name": "stdout"
        }
      ]
    },
    {
      "cell_type": "markdown",
      "metadata": {
        "id": "VwqvapvQW8_o"
      },
      "source": [
        "## Part 3: Pandas Excel"
      ]
    },
    {
      "cell_type": "markdown",
      "metadata": {
        "id": "RxQ8qwj2XC0S"
      },
      "source": [
        "1. Write a python program to read an image and save the image as a matrix to a .csv file using pandas"
      ]
    },
    {
      "cell_type": "code",
      "metadata": {
        "colab": {
          "base_uri": "https://localhost:8080/"
        },
        "id": "H8cVLRt5hJUP",
        "outputId": "c3be7238-6e8e-42da-88a7-3bef3d1b9038"
      },
      "source": [
        "from PIL import Image\n",
        "import numpy as np\n",
        "import pandas as pd\n",
        "\n",
        "imframe = Image.open('/content/drive/MyDrive/Colab Notebooks/car.jpg')\n",
        "npframe = np.array(imframe.getdata())\n",
        "print(npframe)\n",
        "imgrgbdf = pd.DataFrame(npframe)\n",
        "imgrgbdf.to_csv('/content/drive/MyDrive/Colab Notebooks/ImagePixel.csv')"
      ],
      "execution_count": null,
      "outputs": [
        {
          "output_type": "stream",
          "text": [
            "[[223 213 204]\n",
            " [223 213 204]\n",
            " [223 213 204]\n",
            " ...\n",
            " [ 82  89 115]\n",
            " [ 82  89 115]\n",
            " [ 82  89 115]]\n"
          ],
          "name": "stdout"
        }
      ]
    },
    {
      "cell_type": "markdown",
      "metadata": {
        "id": "1DWhgPz1mvdq"
      },
      "source": [
        "2. Write a program to import excel data from the .csv file\n",
        "(generated in question 1) by excluding the last row and last\n",
        "column"
      ]
    },
    {
      "cell_type": "code",
      "metadata": {
        "colab": {
          "base_uri": "https://localhost:8080/"
        },
        "id": "nWynclvDm3y6",
        "outputId": "bfb61eba-8b32-410e-ca7e-1a9da194ea88"
      },
      "source": [
        "import pandas as pd \n",
        "df = pd.read_csv('/content/drive/MyDrive/Colab Notebooks/ImagePixel.csv')\n",
        "print(\"csv file data before reomving last row and last column\")\n",
        "print(df)\n",
        "print(\"\\n csv file data after reomving last row and last column\\n\")\n",
        "df = pd.read_csv('/content/drive/MyDrive/Colab Notebooks/ImagePixel.csv', skiprows=[50434],usecols=[0,1,2])\n",
        "print(df)"
      ],
      "execution_count": null,
      "outputs": [
        {
          "output_type": "stream",
          "text": [
            "csv file data before reomving last row and last column\n",
            "       Unnamed: 0    0    1    2\n",
            "0               0  223  213  204\n",
            "1               1  223  213  204\n",
            "2               2  223  213  204\n",
            "3               3  223  213  204\n",
            "4               4  223  213  204\n",
            "...           ...  ...  ...  ...\n",
            "50429       50429   81   88  114\n",
            "50430       50430   81   88  114\n",
            "50431       50431   82   89  115\n",
            "50432       50432   82   89  115\n",
            "50433       50433   82   89  115\n",
            "\n",
            "[50434 rows x 4 columns]\n",
            "\n",
            " csv file data after reomving last row and last column\n",
            "\n",
            "       Unnamed: 0    0    1\n",
            "0               0  223  213\n",
            "1               1  223  213\n",
            "2               2  223  213\n",
            "3               3  223  213\n",
            "4               4  223  213\n",
            "...           ...  ...  ...\n",
            "50428       50428   81   88\n",
            "50429       50429   81   88\n",
            "50430       50430   81   88\n",
            "50431       50431   82   89\n",
            "50432       50432   82   89\n",
            "\n",
            "[50433 rows x 3 columns]\n"
          ],
          "name": "stdout"
        }
      ]
    },
    {
      "cell_type": "markdown",
      "metadata": {
        "id": "ZylaoCMPp5jC"
      },
      "source": [
        "3. Write a Pandas program to create the today's date"
      ]
    },
    {
      "cell_type": "code",
      "metadata": {
        "colab": {
          "base_uri": "https://localhost:8080/"
        },
        "id": "4lnYQTvPp8QI",
        "outputId": "3688d82a-6efa-4ca8-a0ec-3550eb9eaafe"
      },
      "source": [
        "import pandas as pd\n",
        "from datetime import date\n",
        "now = pd.to_datetime(str(date.today()), format='%Y-%m-%d')\n",
        "print(\"Today's date:\")\n",
        "print(now)"
      ],
      "execution_count": null,
      "outputs": [
        {
          "output_type": "stream",
          "text": [
            "Today's date:\n",
            "2021-01-13 00:00:00\n"
          ],
          "name": "stdout"
        }
      ]
    },
    {
      "cell_type": "markdown",
      "metadata": {
        "id": "wIHrAkAD2yEA"
      },
      "source": [
        "## Part 4"
      ]
    },
    {
      "cell_type": "markdown",
      "metadata": {
        "id": "NGwy0_sS21zv"
      },
      "source": [
        "1. Create a mini calculator to know the age of a person after\n",
        "putting the range (i.e. date of birth and current date)"
      ]
    },
    {
      "cell_type": "code",
      "metadata": {
        "id": "LehLoocL20-3"
      },
      "source": [
        "# Python3 code to  calculate age in years \n",
        "  \n",
        "from datetime import date \n",
        "  \n",
        "def calculateAge(birthDate): \n",
        "    today = date.today() \n",
        "    age = today.year - birthDate.year - \n",
        "         ((today.month, today.day) < \n",
        "         (birthDate.month, birthDate.day)) \n",
        "  \n",
        "    return age \n",
        "      \n",
        "# Driver code  \n",
        "print(calculateAge(date(1997, 2, 3)), \"years\") "
      ],
      "execution_count": null,
      "outputs": []
    }
  ]
}