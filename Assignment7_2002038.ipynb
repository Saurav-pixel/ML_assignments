{
  "nbformat": 4,
  "nbformat_minor": 0,
  "metadata": {
    "colab": {
      "name": "Assignment7_2002038.ipynb",
      "provenance": [],
      "collapsed_sections": [],
      "authorship_tag": "ABX9TyM1KG8K4DcNBbYQoqYEPrfs",
      "include_colab_link": true
    },
    "kernelspec": {
      "display_name": "Python 3",
      "name": "python3"
    }
  },
  "cells": [
    {
      "cell_type": "markdown",
      "metadata": {
        "id": "view-in-github",
        "colab_type": "text"
      },
      "source": [
        "<a href=\"https://colab.research.google.com/github/Saurav-pixel/ML_assignments/blob/main/Assignment7_2002038.ipynb\" target=\"_parent\"><img src=\"https://colab.research.google.com/assets/colab-badge.svg\" alt=\"Open In Colab\"/></a>"
      ]
    },
    {
      "cell_type": "code",
      "metadata": {
        "colab": {
          "base_uri": "https://localhost:8080/"
        },
        "id": "mkgzNXI2sxrw",
        "outputId": "90418e00-4b11-4392-c0b1-7373c254f7fa"
      },
      "source": [
        "# mounting google drive on colab notebook\n",
        "\n",
        "from google.colab import drive\n",
        "drive.mount('/content/drive/')"
      ],
      "execution_count": null,
      "outputs": [
        {
          "output_type": "stream",
          "text": [
            "Mounted at /content/drive/\n"
          ],
          "name": "stdout"
        }
      ]
    },
    {
      "cell_type": "markdown",
      "metadata": {
        "id": "HIU8HNPE56Jm"
      },
      "source": [
        "# Question 1"
      ]
    },
    {
      "cell_type": "code",
      "metadata": {
        "id": "m-J0EEIj58yJ"
      },
      "source": [
        "import numpy as np\n",
        "import matplotlib.pyplot as plt\n",
        "import scipy.spatial\n",
        "from collections import Counter\n",
        "\n",
        "from sklearn.metrics import accuracy_score"
      ],
      "execution_count": null,
      "outputs": []
    },
    {
      "cell_type": "code",
      "metadata": {
        "colab": {
          "base_uri": "https://localhost:8080/"
        },
        "id": "L2nnZAkoCh-L",
        "outputId": "e4753fea-236d-4a86-8328-8efdb59ed632"
      },
      "source": [
        "# Define input features(OR GATE) and (AND GATE) respectively\n",
        "input_features = np.array([[0,0],[0,1],[1,0],[1,1]])\n",
        "input_features1 = np.array([[0,0],[0,1],[1,0],[1,1]])\n",
        "\n",
        "print (input_features.shape)\n",
        "print (input_features)\n",
        "\n",
        "print (input_features1.shape)\n",
        "print (input_features1)\n",
        "# Define target output:\n",
        "target_output = np.array([[0,1,1,1]])\n",
        "target_output1 = np.array([[0,0,0,1]])"
      ],
      "execution_count": null,
      "outputs": [
        {
          "output_type": "stream",
          "text": [
            "(4, 2)\n",
            "[[0 0]\n",
            " [0 1]\n",
            " [1 0]\n",
            " [1 1]]\n",
            "(4, 2)\n",
            "[[0 0]\n",
            " [0 1]\n",
            " [1 0]\n",
            " [1 1]]\n"
          ],
          "name": "stdout"
        }
      ]
    },
    {
      "cell_type": "code",
      "metadata": {
        "colab": {
          "base_uri": "https://localhost:8080/"
        },
        "id": "lcLVqc30CnSI",
        "outputId": "7b8ec650-05dd-45ee-a716-a4ec0f962749"
      },
      "source": [
        "# Reshaping our target output into vector:\n",
        "target_output = target_output.reshape(4,1)\n",
        "print(target_output.shape)\n",
        "print (target_output)\n",
        "\n",
        "target_output1 = target_output1.reshape(4,1)\n",
        "print(target_output1.shape)\n",
        "print (target_output1)\n"
      ],
      "execution_count": null,
      "outputs": [
        {
          "output_type": "stream",
          "text": [
            "(4, 1)\n",
            "[[0]\n",
            " [1]\n",
            " [1]\n",
            " [1]]\n",
            "(4, 1)\n",
            "[[0]\n",
            " [0]\n",
            " [0]\n",
            " [1]]\n"
          ],
          "name": "stdout"
        }
      ]
    },
    {
      "cell_type": "code",
      "metadata": {
        "colab": {
          "base_uri": "https://localhost:8080/"
        },
        "id": "a7eqf3saCqkd",
        "outputId": "7a5efe6b-a25a-4a1b-df45-a6b4155b611b"
      },
      "source": [
        "# Define weights:\n",
        "weights = np.array([[-0.3],[0.3]])\n",
        "print(weights.shape)\n",
        "print (weights)\n",
        "# Bias weight:\n",
        "bias = 0.3\n",
        "# Learning Rate:\n",
        "lr = 0.85\n"
      ],
      "execution_count": null,
      "outputs": [
        {
          "output_type": "stream",
          "text": [
            "(2, 1)\n",
            "[[-0.3]\n",
            " [ 0.3]]\n"
          ],
          "name": "stdout"
        }
      ]
    },
    {
      "cell_type": "code",
      "metadata": {
        "id": "xUOMcCfKCt4_"
      },
      "source": [
        "# Activation function:\n",
        "def sigmoid(x):\n",
        "  return 1/(1+np.exp(-x))\n",
        "# Derivative of activation function:\n",
        "def sigmoid_der(x):\n",
        "  return sigmoid(x)*(1-sigmoid(x))"
      ],
      "execution_count": null,
      "outputs": []
    },
    {
      "cell_type": "code",
      "metadata": {
        "colab": {
          "base_uri": "https://localhost:8080/"
        },
        "id": "qZJ-uoO0Cwwv",
        "outputId": "43982621-408c-4260-b7a8-5babc9ef2333"
      },
      "source": [
        "# Running our code 10000 times:\n",
        "for epoch in range(10000):\n",
        "  inputs = input_features\n",
        "  inputs = input_features1\n",
        "#Feedforward input:\n",
        "in_o = np.dot(inputs, weights) + bias \n",
        "#Feedforward output:\n",
        "out_o = sigmoid(in_o) \n",
        "#Backpropogation\n",
        "#Calculating error\n",
        "error = out_o - target_output\n",
        "error = out_o - target_output1\n",
        "\n",
        "#Going with the formula:\n",
        "x = error.sum()\n",
        "print(x)\n"
      ],
      "execution_count": null,
      "outputs": [
        {
          "output_type": "stream",
          "text": [
            "1.2945413398491135\n"
          ],
          "name": "stdout"
        }
      ]
    },
    {
      "cell_type": "code",
      "metadata": {
        "id": "IVqVjh7gCzyO"
      },
      "source": [
        "#Calculating derivative:\n",
        "derror_douto = error\n",
        "douto_dino = sigmoid_der(out_o)\n",
        "#Multiplying individual derivatives:\n",
        "deriv = derror_douto * douto_dino \n",
        "#Multiplying with the 3rd individual derivative:\n",
        "#Finding the transpose of input_features:\n",
        "inputs = input_features.T\n",
        "inputs = input_features1.T\n",
        "deriv_final = np.dot(inputs,deriv)\n"
      ],
      "execution_count": null,
      "outputs": []
    },
    {
      "cell_type": "code",
      "metadata": {
        "colab": {
          "base_uri": "https://localhost:8080/"
        },
        "id": "9BDahMDtC2m_",
        "outputId": "5335a93d-da40-46d5-ae3b-280cf0707ae5"
      },
      "source": [
        "#Updating the weights values:\n",
        "weights -= lr * deriv_final \n",
        "#Updating the bias weight value:\n",
        "for i in deriv:\n",
        " bias -= lr * i \n",
        "#Check the final values for weight and biasprint (weights)\n",
        "print(weights)\n",
        "print (bias) "
      ],
      "execution_count": null,
      "outputs": [
        {
          "output_type": "stream",
          "text": [
            "[[-0.31651391]\n",
            " [ 0.25952179]]\n",
            "[0.04711738]\n"
          ],
          "name": "stdout"
        }
      ]
    },
    {
      "cell_type": "code",
      "metadata": {
        "colab": {
          "base_uri": "https://localhost:8080/"
        },
        "id": "PnwmqvNvC555",
        "outputId": "6e3151b9-2ebd-45b9-d406-1504ca955eb4"
      },
      "source": [
        "#Predictions \n",
        "#Taking inputs:\n",
        "single_point = np.array([1,0])\n",
        " #1st step:\n",
        "result1 = np.dot(single_point, weights) + bias \n",
        "#2nd step:\n",
        "result2 = sigmoid(result1) \n",
        "#Print final result\n",
        "print(result2) \n",
        "#2:\n",
        "single_point = np.array([1,1]) \n",
        "result1 = np.dot(single_point, weights) + bias \n",
        "result2 = sigmoid(result1) \n",
        "print(result2) \n",
        "#3.\n",
        "single_point = np.array([0,0]) \n",
        "result1 = np.dot(single_point, weights) + bias \n",
        "result2 = sigmoid(result1) \n",
        "print(result2)\n",
        "#4.\n",
        "single_point = np.array([0,1]) \n",
        "result1 = np.dot(single_point, weights) + bias \n",
        "result2 = sigmoid(result1) \n",
        "print(result2)"
      ],
      "execution_count": null,
      "outputs": [
        {
          "output_type": "stream",
          "text": [
            "[0.43305525]\n",
            "[0.49753134]\n",
            "[0.51177717]\n",
            "[0.57606471]\n"
          ],
          "name": "stdout"
        }
      ]
    },
    {
      "cell_type": "markdown",
      "metadata": {
        "id": "AIoudRkvqhrw"
      },
      "source": [
        "# Question 2:  KNN classifier on iris dataset"
      ]
    },
    {
      "cell_type": "code",
      "metadata": {
        "id": "ynJNCJJ_qVbb"
      },
      "source": [
        "import numpy as np\n",
        "import scipy.spatial\n",
        "from collections import Counter\n",
        "\n",
        "from sklearn import datasets\n",
        "from sklearn.model_selection import train_test_split\n",
        "iris = datasets.load_iris()\n",
        "X_train, X_test, y_train, y_test = train_test_split(iris.data, iris.target, random_state = 42, test_size = 0.2)"
      ],
      "execution_count": null,
      "outputs": []
    },
    {
      "cell_type": "code",
      "metadata": {
        "id": "1cTzaRuaquiB"
      },
      "source": [
        "class KNN:\n",
        "    def __init__(self, k):\n",
        "        self.k = k\n",
        "        \n",
        "    def fit(self, X, y):\n",
        "        self.X_train = X\n",
        "        self.y_train = y\n",
        "        \n",
        "    def distance(self, X1, X2):\n",
        "        distance = scipy.spatial.distance.euclidean(X1, X2)\n",
        "    \n",
        "    def predict(self, X_test):\n",
        "        final_output = []\n",
        "        for i in range(len(X_test)):\n",
        "            d = []\n",
        "            votes = []\n",
        "            for j in range(len(X_train)):\n",
        "                dist = scipy.spatial.distance.euclidean(X_train[j] , X_test[i])\n",
        "                d.append([dist, j])\n",
        "            d.sort()\n",
        "            d = d[0:self.k]\n",
        "            for d, j in d:\n",
        "                votes.append(y_train[j])\n",
        "            ans = Counter(votes).most_common(1)[0][0]\n",
        "            final_output.append(ans)\n",
        "            \n",
        "        return final_output\n",
        "    \n",
        "    def score(self, X_test, y_test):\n",
        "        predictions = self.predict(X_test)\n",
        "        return (predictions == y_test).sum() / len(y_test)\n"
      ],
      "execution_count": null,
      "outputs": []
    },
    {
      "cell_type": "code",
      "metadata": {
        "colab": {
          "base_uri": "https://localhost:8080/"
        },
        "id": "XOJKaDJ16SU4",
        "outputId": "e6c4b98e-2065-4736-d156-0fff94032cb3"
      },
      "source": [
        "clf = KNN(3)\n",
        "clf.fit(X_train, y_train)\n",
        "prediction = clf.predict(X_test)\n",
        "print(prediction)\n",
        "for i in prediction:\n",
        "    print(i, end= ' ')"
      ],
      "execution_count": null,
      "outputs": [
        {
          "output_type": "stream",
          "text": [
            "[1, 0, 2, 1, 1, 0, 1, 2, 1, 1, 2, 0, 0, 0, 0, 1, 2, 1, 1, 2, 0, 2, 0, 2, 2, 2, 2, 2, 0, 0]\n",
            "1 0 2 1 1 0 1 2 1 1 2 0 0 0 0 1 2 1 1 2 0 2 0 2 2 2 2 2 0 0 "
          ],
          "name": "stdout"
        }
      ]
    },
    {
      "cell_type": "code",
      "metadata": {
        "colab": {
          "base_uri": "https://localhost:8080/"
        },
        "id": "36v00YUl6f6k",
        "outputId": "69284d99-20ae-41cf-f1d4-923b85e302a5"
      },
      "source": [
        "prediction == y_test"
      ],
      "execution_count": null,
      "outputs": [
        {
          "output_type": "execute_result",
          "data": {
            "text/plain": [
              "array([ True,  True,  True,  True,  True,  True,  True,  True,  True,\n",
              "        True,  True,  True,  True,  True,  True,  True,  True,  True,\n",
              "        True,  True,  True,  True,  True,  True,  True,  True,  True,\n",
              "        True,  True,  True])"
            ]
          },
          "metadata": {
            "tags": []
          },
          "execution_count": 22
        }
      ]
    },
    {
      "cell_type": "code",
      "metadata": {
        "colab": {
          "base_uri": "https://localhost:8080/"
        },
        "id": "blTVLNBl6i5M",
        "outputId": "0ac01fba-0da5-4f7f-b652-67012e86ae48"
      },
      "source": [
        "clf.score(X_test, y_test)"
      ],
      "execution_count": null,
      "outputs": [
        {
          "output_type": "execute_result",
          "data": {
            "text/plain": [
              "1.0"
            ]
          },
          "metadata": {
            "tags": []
          },
          "execution_count": 23
        }
      ]
    }
  ]
}